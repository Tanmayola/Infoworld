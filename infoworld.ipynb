{
 "cells": [
  {
   "cell_type": "code",
   "execution_count": 1,
   "id": "3ba5d825",
   "metadata": {},
   "outputs": [],
   "source": [
    "class country:\n",
    "    def info(self):\n",
    "        x=['India','Russia','UAE']\n",
    "        for k in x:\n",
    "            print(k)\n",
    "\n",
    "class india(country):\n",
    "    \n",
    "    def states(self):\n",
    "        y=[\"Rajasthan\",\"Delhi\",\"Punjab\"]\n",
    "        for k in y:\n",
    "            print (k)\n",
    "            \n",
    "    def rajasthan(self):\n",
    "        print(\"\\nRajasthan : \")\n",
    "        print('''The state of Rajasthan was formed on 30 March 1949, consisting of 22 princely states,\n",
    "        hence Rajasthan Day is celebrated every 30 March. The shape of the map of Rajasthan is kite shape \n",
    "        and its capital is Jaipur. Which is also called pink city.''')\n",
    "    def delhi(self):\n",
    "        print(\"\\nDelhi\")\n",
    "        print('''Delhi, city and national capital territory, north-central India.\n",
    "        The city of Delhi actually consists of two components: Old Delhi, in the north, the historic city; and New Delhi,\n",
    "        in the south, since 1947 the capital of India, built in the first part of the 20th century as the capital of British India''')\n",
    "    def punjab(self):\n",
    "        print(\"\\nPunjab\")\n",
    "        print('''Punjab is a state in northwest region of India and is one of the most prosperous states.\n",
    "        The name Punjab is made of two words Punj (Five) + Aab (Water) i.e. land of five rivers. \n",
    "        These five rivers of Punjab are Sutlej, Beas, Ravi, Chenab, and Jhelum. Only Sutlej, Ravi and Beas rivers flow in today's Punjab.''')\n",
    "\n",
    "class russia(country):\n",
    "    \n",
    "    def states1(self):\n",
    "        y=[\"Moscow\",\"Saint_Petersburg\"]\n",
    "        for k in y:\n",
    "            print(k)\n",
    "            \n",
    "    def moscow(self):\n",
    "        print(\"\\nMoscow : \")\n",
    "        print('''Moscow is the capital of Russia, its political, economic, and cultural centre.\n",
    "        This is the most populated city in Russia and Europe. For many people fr om Russia and other countries the capital of Russia is a city of magnificent opportunities.''')\n",
    "        \n",
    "    def saint_petersburg(self):\n",
    "        print(\"\\nSaint_Petersburg : \")\n",
    "        print('''t. Petersburg is a mecca of cultural, historical, and architectural landmarks.\n",
    "        Founded by Tsar Peter I (the Great) as Russia's “window on Europe,” it bears the unofficial status of Russia's cultural capital and most European city,\n",
    "        a distinction that it strives to retain in its perennial competition with Moscow''')\n",
    "class uae(russia):\n",
    "    \n",
    "    def states2(self):\n",
    "        y=[\"Dubai\", \"Abu_Dhabi\"]\n",
    "        for k in y:\n",
    "            print(k)\n",
    "            \n",
    "    def dubai(self):\n",
    "        print(\"\\nDubai\")\n",
    "        print('''ubai is a city of skyscrapers, ports, and beaches, where big business takes place alongside sun-seeking tourism.\n",
    "        Because of its large expatriate population, it feels like a Middle Eastern melting pot, and the atmosphere is generally tolerant.\n",
    "        Religious affiliations are not a prominent aspect of city life''')\n",
    "        \n",
    "    def abu_dhabi(self):\n",
    "        print(\"\\nAbu_Dhabi\")\n",
    "        print('''Abu Dhabi is the largest emirate in the United Arab Emirates, occupying 84 per cent of the national landmass territory.\n",
    "        It has 200 islands and a long coastline stretching 700km. Its total area is 67,340 sq. km.\n",
    "        The Corniche.\n",
    "        Sheikh Zayed Grand Mosque.\n",
    "        Al-Hosn Fort.\n",
    "        Beaches of Abu Dhabi.\n",
    "        Ferrari World.\n",
    "        Yas Island.\n",
    "        Museums in Abu Dhabi.\n",
    "        Abu Dhabi Heritage Village''')\n",
    "        "
   ]
  },
  {
   "cell_type": "code",
   "execution_count": 2,
   "id": "fb9078b9",
   "metadata": {},
   "outputs": [
    {
     "name": "stdout",
     "output_type": "stream",
     "text": [
      "India\n",
      "Russia\n",
      "UAE\n"
     ]
    }
   ],
   "source": [
    "obj=country()\n",
    "obj.info()"
   ]
  },
  {
   "cell_type": "code",
   "execution_count": null,
   "id": "a1d83aec",
   "metadata": {},
   "outputs": [],
   "source": [
    "x= input(\"enter the countrey name : \")\n",
    "if x == \"india\":\n",
    "    obj=india()\n",
    "    obj.rajasthan()\n",
    "    obj.delhi()\n",
    "    obj.punjab()\n",
    "elif x == \"russia\":\n",
    "    obj=russia()\n",
    "    obj.moscow()\n",
    "    obj.saint_petersburg()\n",
    "elif x == \"uae\":\n",
    "    obj=uae()\n",
    "    obj.states2()\n",
    "    obj.dubai()\n",
    "    obj.abu_dhabi()\n",
    "else:\n",
    "    print(\"worng option\")"
   ]
  },
  {
   "cell_type": "code",
   "execution_count": null,
   "id": "f6e6050f",
   "metadata": {},
   "outputs": [],
   "source": []
  }
 ],
 "metadata": {
  "kernelspec": {
   "display_name": "Python 3 (ipykernel)",
   "language": "python",
   "name": "python3"
  },
  "language_info": {
   "codemirror_mode": {
    "name": "ipython",
    "version": 3
   },
   "file_extension": ".py",
   "mimetype": "text/x-python",
   "name": "python",
   "nbconvert_exporter": "python",
   "pygments_lexer": "ipython3",
   "version": "3.10.9"
  }
 },
 "nbformat": 4,
 "nbformat_minor": 5
}
